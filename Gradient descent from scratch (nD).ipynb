{
 "cells": [
  {
   "cell_type": "markdown",
   "id": "1219ef11",
   "metadata": {},
   "source": [
    "# Sklearn gradient Descent"
   ]
  },
  {
   "cell_type": "code",
   "execution_count": 189,
   "id": "30e36622",
   "metadata": {},
   "outputs": [],
   "source": [
    "import pandas as pd\n",
    "import numpy as np\n",
    "from sklearn.model_selection import train_test_split\n",
    "import time"
   ]
  },
  {
   "cell_type": "code",
   "execution_count": 190,
   "id": "f8ec571a",
   "metadata": {},
   "outputs": [],
   "source": [
    "from sklearn.datasets import load_diabetes\n",
    "X, y = load_diabetes(return_X_y=True)"
   ]
  },
  {
   "cell_type": "code",
   "execution_count": 191,
   "id": "41bcc2de",
   "metadata": {},
   "outputs": [],
   "source": [
    "X_train, X_test, y_train, y_test = train_test_split(X, y, test_size=0.2, random_state=42)"
   ]
  },
  {
   "cell_type": "code",
   "execution_count": 192,
   "id": "1a84ee7c",
   "metadata": {},
   "outputs": [
    {
     "name": "stdout",
     "output_type": "stream",
     "text": [
      "R2score of the scikit learn linear regressor is:  0.0069132949709930225\n"
     ]
    }
   ],
   "source": [
    "from sklearn.linear_model import LinearRegression\n",
    "lr = LinearRegression()\n",
    "lr.fit(X_train, y_train)\n",
    "y_pred = lr.predict(X_test)\n",
    "from sklearn.metrics import r2_score\n",
    "print('R2score of the scikit learn linear regressor is: ', r2_score(y_pred, y_test))"
   ]
  },
  {
   "cell_type": "markdown",
   "id": "13bf39d6",
   "metadata": {},
   "source": [
    "# Multidimensional Gradient Descent from scratch"
   ]
  },
  {
   "cell_type": "markdown",
   "id": "482efa85",
   "metadata": {},
   "source": [
    "# Batch gradient Descent"
   ]
  },
  {
   "cell_type": "code",
   "execution_count": 193,
   "id": "b25bbab0",
   "metadata": {},
   "outputs": [],
   "source": [
    "class GD_multi_Dim:\n",
    "    \n",
    "    def __init__(self, learning_rate=0.01, epochs=100):\n",
    "        self.coef = None\n",
    "        self.intercept = None\n",
    "        self.learning_rate = learning_rate\n",
    "        self.epochs = epochs\n",
    "        \n",
    "    def fit(self, X_train, y_train):\n",
    "        self.intercept=0\n",
    "        self.coef = np.ones(X_train.shape[1])\n",
    "        for i in range(self.epochs):\n",
    "            y_hat = np.dot(X_train, self.coef) + self.intercept\n",
    "            intercept_der = -2 * (np.mean(y_train - y_hat))\n",
    "            self.intercept = self.intercept - (self.learning_rate * intercept_der)\n",
    "            \n",
    "            \n",
    "            coef_der = (-2 * np.dot((y_train - y_hat), X_train))/(X_train.shape[0])\n",
    "            self.coef = self.coef - (self.learning_rate * coef_der)\n",
    "        \n",
    "    def predict(self, X_test):\n",
    "        return ((np.dot(X_test, self.coef)) + self.intercept)"
   ]
  },
  {
   "cell_type": "code",
   "execution_count": 194,
   "id": "1c8c76bc",
   "metadata": {},
   "outputs": [],
   "source": [
    "gd = GD_multi_Dim(learning_rate=0.5 ,epochs=1000)"
   ]
  },
  {
   "cell_type": "code",
   "execution_count": 195,
   "id": "40d68a34",
   "metadata": {},
   "outputs": [
    {
     "name": "stdout",
     "output_type": "stream",
     "text": [
      "time taken is 0.13599729537963867\n"
     ]
    }
   ],
   "source": [
    "start = time.time()\n",
    "gd.fit(X_train, y_train)\n",
    "print('time taken is', time.time() - start)"
   ]
  },
  {
   "cell_type": "code",
   "execution_count": 196,
   "id": "84fd7a64",
   "metadata": {},
   "outputs": [],
   "source": [
    "y_pred2 = gd.predict(X_test)"
   ]
  },
  {
   "cell_type": "code",
   "execution_count": 197,
   "id": "89dec87e",
   "metadata": {},
   "outputs": [
    {
     "name": "stdout",
     "output_type": "stream",
     "text": [
      "r2 score of our gradient score is:  -0.09580183597920344\n"
     ]
    }
   ],
   "source": [
    "print('r2 score of our gradient score is: ', r2_score(y_pred2, y_test))"
   ]
  },
  {
   "cell_type": "code",
   "execution_count": 198,
   "id": "1565b4ab",
   "metadata": {},
   "outputs": [
    {
     "data": {
      "text/plain": [
       "151.37261723517858"
      ]
     },
     "execution_count": 198,
     "metadata": {},
     "output_type": "execute_result"
    }
   ],
   "source": [
    "gd.intercept"
   ]
  },
  {
   "cell_type": "code",
   "execution_count": 199,
   "id": "80917608",
   "metadata": {},
   "outputs": [
    {
     "data": {
      "text/plain": [
       "array([  41.82825603, -203.237332  ,  509.65379034,  325.07884454,\n",
       "        -71.07206584, -119.33265177, -215.85367971,  144.71006788,\n",
       "        376.52628608,  111.97625999])"
      ]
     },
     "execution_count": 199,
     "metadata": {},
     "output_type": "execute_result"
    }
   ],
   "source": [
    "gd.coef"
   ]
  },
  {
   "cell_type": "code",
   "execution_count": 200,
   "id": "5a96bb78",
   "metadata": {},
   "outputs": [
    {
     "data": {
      "text/plain": [
       "array([  37.90031426, -241.96624835,  542.42575342,  347.70830529,\n",
       "       -931.46126093,  518.04405547,  163.40353476,  275.31003837,\n",
       "        736.18909839,   48.67112488])"
      ]
     },
     "execution_count": 200,
     "metadata": {},
     "output_type": "execute_result"
    }
   ],
   "source": [
    "lr.coef_"
   ]
  },
  {
   "cell_type": "code",
   "execution_count": 201,
   "id": "ce29abd3",
   "metadata": {},
   "outputs": [
    {
     "data": {
      "text/plain": [
       "151.3456553477407"
      ]
     },
     "execution_count": 201,
     "metadata": {},
     "output_type": "execute_result"
    }
   ],
   "source": [
    "lr.intercept_"
   ]
  },
  {
   "cell_type": "markdown",
   "id": "7254caf6",
   "metadata": {},
   "source": [
    "# Stochastic Gradient Descent"
   ]
  },
  {
   "cell_type": "code",
   "execution_count": 202,
   "id": "3a9ee0c9",
   "metadata": {},
   "outputs": [],
   "source": [
    "class Stochastic_GD_multi_Dim:\n",
    "    \n",
    "    def __init__(self, learning_rate=0.01, epochs=100):\n",
    "        self.coef = None\n",
    "        self.intercept = None\n",
    "        self.learning_rate = learning_rate\n",
    "        self.epochs = epochs\n",
    "        \n",
    "    def fit(self, X_train, y_train):\n",
    "        self.intercept=0\n",
    "        self.coef = np.ones(X_train.shape[1])\n",
    "        for i in range(self.epochs):\n",
    "            for j in range(X_train.shape[0]):\n",
    "                idx = np.random.randint(0, X_test.shape[0])\n",
    "                \n",
    "                y_hat = np.dot(X_train[idx], self.coef) + self.intercept\n",
    "                \n",
    "                intercept_der = -2 * (y_train[idx] - y_hat)\n",
    "                self.intercept = self.intercept - (self.learning_rate * intercept_der)\n",
    "                \n",
    "                coef_der = (-2 * np.dot((y_train[idx] - y_hat), X_train[idx]))\n",
    "                self.coef = self.coef - (self.learning_rate * coef_der)\n",
    "        \n",
    "    def predict(self, X_test):\n",
    "        return ((np.dot(X_test, self.coef)) + self.intercept)"
   ]
  },
  {
   "cell_type": "code",
   "execution_count": 203,
   "id": "6a52d1cd",
   "metadata": {},
   "outputs": [],
   "source": [
    "sgd = Stochastic_GD_multi_Dim(learning_rate=0.05, epochs=100)"
   ]
  },
  {
   "cell_type": "code",
   "execution_count": 204,
   "id": "d12b534d",
   "metadata": {},
   "outputs": [
    {
     "name": "stdout",
     "output_type": "stream",
     "text": [
      "time taken is: 1.3061416149139404\n"
     ]
    }
   ],
   "source": [
    "start = time.time()\n",
    "sgd.fit(X_train, y_train)\n",
    "print('time taken is:', time.time()- start)"
   ]
  },
  {
   "cell_type": "code",
   "execution_count": 205,
   "id": "f8d2d60e",
   "metadata": {},
   "outputs": [],
   "source": [
    "y_pred_sgd = sgd.predict(X_test)"
   ]
  },
  {
   "cell_type": "code",
   "execution_count": 206,
   "id": "086de841",
   "metadata": {},
   "outputs": [
    {
     "name": "stdout",
     "output_type": "stream",
     "text": [
      "R2 Score of Stochastic gradient descent is:  0.07527412533924316\n"
     ]
    }
   ],
   "source": [
    "print('R2 Score of Stochastic gradient descent is: ', r2_score(y_pred_sgd, y_test))"
   ]
  },
  {
   "cell_type": "code",
   "execution_count": 207,
   "id": "3b42e2c8",
   "metadata": {},
   "outputs": [
    {
     "data": {
      "text/plain": [
       "146.24662872059847"
      ]
     },
     "execution_count": 207,
     "metadata": {},
     "output_type": "execute_result"
    }
   ],
   "source": [
    "sgd.intercept"
   ]
  },
  {
   "cell_type": "code",
   "execution_count": 208,
   "id": "63bb859d",
   "metadata": {},
   "outputs": [
    {
     "data": {
      "text/plain": [
       "array([ 121.94283661, -277.81795819,  410.16392678,  320.32876885,\n",
       "       -134.66310813, -195.71826276, -129.3169879 ,  339.92996084,\n",
       "        612.43326973,   60.07422873])"
      ]
     },
     "execution_count": 208,
     "metadata": {},
     "output_type": "execute_result"
    }
   ],
   "source": [
    "sgd.coef"
   ]
  },
  {
   "cell_type": "markdown",
   "id": "0b4a6769",
   "metadata": {},
   "source": [
    "# Sklearn Stochastic Gradient Descent"
   ]
  },
  {
   "cell_type": "code",
   "execution_count": 209,
   "id": "ca29a213",
   "metadata": {},
   "outputs": [],
   "source": [
    "#https://github.com/scikit-learn/scikit-learn/blob/dc580a8ef/sklearn/linear_model/_stochastic_gradient.py#L1721\n",
    "from sklearn.linear_model import SGDRegressor"
   ]
  },
  {
   "cell_type": "code",
   "execution_count": 210,
   "id": "4427bd81",
   "metadata": {},
   "outputs": [],
   "source": [
    "sgd_ = SGDRegressor()"
   ]
  },
  {
   "cell_type": "code",
   "execution_count": 211,
   "id": "f01374fa",
   "metadata": {},
   "outputs": [
    {
     "name": "stderr",
     "output_type": "stream",
     "text": [
      "C:\\Users\\HP\\anaconda\\lib\\site-packages\\sklearn\\linear_model\\_stochastic_gradient.py:1503: ConvergenceWarning: Maximum number of iteration reached before convergence. Consider increasing max_iter to improve the fit.\n",
      "  warnings.warn(\n"
     ]
    },
    {
     "data": {
      "text/plain": [
       "SGDRegressor()"
      ]
     },
     "execution_count": 211,
     "metadata": {},
     "output_type": "execute_result"
    }
   ],
   "source": [
    "sgd_.fit(X_train, y_train)"
   ]
  },
  {
   "cell_type": "code",
   "execution_count": 212,
   "id": "f6784cb1",
   "metadata": {},
   "outputs": [],
   "source": [
    "y_sgd_sklearn = sgd.predict(X_test)"
   ]
  },
  {
   "cell_type": "code",
   "execution_count": 213,
   "id": "83067801",
   "metadata": {},
   "outputs": [
    {
     "name": "stdout",
     "output_type": "stream",
     "text": [
      "R2 score of SGD Regressor is:  0.07527412533924316\n"
     ]
    }
   ],
   "source": [
    "print('R2 score of SGD Regressor is: ', r2_score(y_sgd_sklearn, y_test))"
   ]
  },
  {
   "cell_type": "code",
   "execution_count": 214,
   "id": "b373cf05",
   "metadata": {},
   "outputs": [
    {
     "data": {
      "text/plain": [
       "array([152.21944078])"
      ]
     },
     "execution_count": 214,
     "metadata": {},
     "output_type": "execute_result"
    }
   ],
   "source": [
    "sgd_.intercept_"
   ]
  },
  {
   "cell_type": "code",
   "execution_count": 215,
   "id": "d63ad273",
   "metadata": {},
   "outputs": [
    {
     "data": {
      "text/plain": [
       "array([  56.1226273 ,  -41.48923961,  262.26065227,  187.48687819,\n",
       "         28.77369237,    4.12402476, -144.16775892,  134.15542947,\n",
       "        218.40832926,  132.28957736])"
      ]
     },
     "execution_count": 215,
     "metadata": {},
     "output_type": "execute_result"
    }
   ],
   "source": [
    "sgd_.coef_"
   ]
  },
  {
   "cell_type": "markdown",
   "id": "7ead9e58",
   "metadata": {},
   "source": [
    "# Mini batch Gradient Descent"
   ]
  },
  {
   "cell_type": "code",
   "execution_count": 216,
   "id": "94dc6ffb",
   "metadata": {},
   "outputs": [],
   "source": [
    "import random"
   ]
  },
  {
   "cell_type": "code",
   "execution_count": 217,
   "id": "d033c6a1",
   "metadata": {},
   "outputs": [],
   "source": [
    "class mini_batch_GD:\n",
    "    \n",
    "    def __init__(self,batch_size, learning_rate=0.01, epochs=100):\n",
    "        self.coef = None\n",
    "        self.intercept = None\n",
    "        self.learning_rate = learning_rate\n",
    "        self.epochs = epochs\n",
    "        self.batch_size = batch_size\n",
    "        \n",
    "    def fit(self, X_train, y_train):\n",
    "        self.intercept=0\n",
    "        self.coef = np.ones(X_train.shape[1])\n",
    "        \n",
    "        for i in range(self.epochs):\n",
    "            for j in range(int(X_train.shape[0]/self.batch_size)):\n",
    "                \n",
    "                idx = random.sample(range(X_train.shape[0]), self.batch_size)\n",
    "                \n",
    "                y_hat = np.dot(X_train[idx], self.coef) + self.intercept\n",
    "                \n",
    "                intercept_der = -2 * np.mean(y_train[idx] - y_hat)\n",
    "                self.intercept = self.intercept - (self.learning_rate * intercept_der)\n",
    "                \n",
    "                coef_der = -2 * np.dot((y_train[idx] - y_hat),X_train[idx])\n",
    "                self.coef = self.coef - (self.learning_rate * coef_der)\n",
    "        \n",
    "    def predict(self, X_test):\n",
    "        return ((np.dot(X_test, self.coef)) + self.intercept)"
   ]
  },
  {
   "cell_type": "code",
   "execution_count": 218,
   "id": "eb0a6568",
   "metadata": {},
   "outputs": [],
   "source": [
    "mbgd = mini_batch_GD(batch_size= int(X_train.shape[0]/10), learning_rate=0.1, epochs=50)"
   ]
  },
  {
   "cell_type": "code",
   "execution_count": 219,
   "id": "f0d4fbc6",
   "metadata": {},
   "outputs": [],
   "source": [
    "mbgd.fit(X_train, y_train)"
   ]
  },
  {
   "cell_type": "code",
   "execution_count": 220,
   "id": "afd2e19b",
   "metadata": {},
   "outputs": [],
   "source": [
    "y_pred_mbgd = mbgd.predict(X_test)"
   ]
  },
  {
   "cell_type": "code",
   "execution_count": 221,
   "id": "f82e3c36",
   "metadata": {},
   "outputs": [
    {
     "name": "stdout",
     "output_type": "stream",
     "text": [
      "The r2 score of mini batch gradient descent is: -0.023351770391657034\n"
     ]
    }
   ],
   "source": [
    "print('The r2 score of mini batch gradient descent is:', r2_score(y_pred_mbgd, y_test))"
   ]
  },
  {
   "cell_type": "code",
   "execution_count": null,
   "id": "d3fa0a64",
   "metadata": {},
   "outputs": [],
   "source": []
  }
 ],
 "metadata": {
  "kernelspec": {
   "display_name": "Python 3 (ipykernel)",
   "language": "python",
   "name": "python3"
  },
  "language_info": {
   "codemirror_mode": {
    "name": "ipython",
    "version": 3
   },
   "file_extension": ".py",
   "mimetype": "text/x-python",
   "name": "python",
   "nbconvert_exporter": "python",
   "pygments_lexer": "ipython3",
   "version": "3.9.13"
  }
 },
 "nbformat": 4,
 "nbformat_minor": 5
}
